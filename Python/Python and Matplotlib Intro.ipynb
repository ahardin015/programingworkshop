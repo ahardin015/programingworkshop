{
 "metadata": {
  "name": "Python and Matplotlib Intro"
 },
 "nbformat": 3,
 "nbformat_minor": 0,
 "worksheets": [
  {
   "cells": [
    {
     "cell_type": "markdown",
     "metadata": {},
     "source": [
      "PYTHON AND MATPLOTLIB INTRODUCTION\n",
      "=================================="
     ]
    },
    {
     "cell_type": "markdown",
     "metadata": {},
     "source": [
      "Matplotlib offers a VARIETY of plotting types for almost any type of data analysis \n",
      "----------------------------------------------------------------------------------\n",
      "Just check out the documentation if you don't believe me \n"
     ]
    },
    {
     "cell_type": "markdown",
     "metadata": {},
     "source": [
      "- Scatter\n",
      "- Histogram\n",
      "- Basemaps"
     ]
    },
    {
     "cell_type": "code",
     "collapsed": false,
     "input": [],
     "language": "python",
     "metadata": {},
     "outputs": []
    }
   ],
   "metadata": {}
  }
 ]
}