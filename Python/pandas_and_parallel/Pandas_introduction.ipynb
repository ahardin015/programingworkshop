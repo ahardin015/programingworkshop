{
 "metadata": {
  "name": "Pandas_introduction"
 },
 "nbformat": 3,
 "nbformat_minor": 0,
 "worksheets": [
  {
   "cells": [
    {
     "cell_type": "markdown",
     "metadata": {},
     "source": [
      "# What is Pandas?\n",
      "Pandas is a package designed to easily ingest, manipulate, write out and plot tabular data through the use of DataFrame or Series objects.\n",
      "\n",
      "## Why use Pandas?\n",
      "\n",
      "* Easily handles missing data\n",
      "* Efficient reading of non-uniform data tables\n",
      "* Integrated label-based slicing/indexing/subsetting operations\n",
      "* Intelligent merging and joining\n",
      "* Simple column addition or removal\n",
      "* Mixed type DataFrame objects\n",
      "* Efficient grouping\n",
      "* Time-series fuctionality\n",
      "\n",
      "### This makes it great for dealing with observational data such as Mesonet data\n",
      "\n",
      "For reference see http://pandas.pydata.org/"
     ]
    },
    {
     "cell_type": "code",
     "collapsed": false,
     "input": [
      "%pylab inline"
     ],
     "language": "python",
     "metadata": {},
     "outputs": []
    },
    {
     "cell_type": "code",
     "collapsed": false,
     "input": [
      "import pandas as pd\n",
      "import datetime as dt"
     ],
     "language": "python",
     "metadata": {},
     "outputs": []
    },
    {
     "cell_type": "markdown",
     "metadata": {},
     "source": [
      "### First things first\n",
      "\n",
      "We need to import some mesonet data through the WTX Mesonet FTP webpage.  We can do this using the mesonet_pull.py script after adding a username and password.\n",
      "\n",
      "We also need to figure out how to read in the data from the files in a logical and efficient manner into arrays.\n",
      "\n",
      "## Needed packages\n",
      "\n",
      "* Paramiko\n",
      "* Pandas v0.13\n",
      "* Basemap"
     ]
    },
    {
     "cell_type": "code",
     "collapsed": false,
     "input": [
      "# Check to make sure you have each of these, if not install them\n",
      "# Pandas v0.12 will likely need to be installed regardless of Python distribution,\n",
      "# so a quick check of the installed version number is below\n",
      "import paramiko\n",
      "from mpl_toolkits.basemap import Basemap\n",
      "pd.version"
     ],
     "language": "python",
     "metadata": {},
     "outputs": []
    },
    {
     "cell_type": "markdown",
     "metadata": {},
     "source": [
      "**Paramiko** https://github.com/paramiko/paramiko\n",
      "\n",
      "**Pandas from Source** https://github.com/pydata/pandas\n",
      "\n",
      "For the two above:\n",
      "\n",
      "* git clone [web address]\n",
      "* navigate to the new directory\n",
      "* python setup.py install (may need to do run this as sudo or su depending on permissions setup)\n",
      "\n",
      "**Basemap** http://matplotlib.org/basemap/users/installing.html\n",
      "\n",
      "For Basemap follow instructions on the webpage"
     ]
    },
    {
     "cell_type": "code",
     "collapsed": false,
     "input": [
      "# If you installed a new version of pandas you will need to reload the module \n",
      "# or restart the kernel.\n",
      "pd = reload(pd)"
     ],
     "language": "python",
     "metadata": {},
     "outputs": []
    },
    {
     "cell_type": "code",
     "collapsed": false,
     "input": [
      "%run mesonet_sftp.py"
     ],
     "language": "python",
     "metadata": {},
     "outputs": []
    },
    {
     "cell_type": "code",
     "collapsed": false,
     "input": [
      "!head raw_data/REES1206.txt"
     ],
     "language": "python",
     "metadata": {},
     "outputs": []
    },
    {
     "cell_type": "markdown",
     "metadata": {},
     "source": [
      "Pandas has a built in csv reader which generates an array with column headers assumed to be the first row and indexed by the number of rows"
     ]
    },
    {
     "cell_type": "code",
     "collapsed": false,
     "input": [
      "filename = 'raw_data/REES1206.txt'\n",
      "raw = pd.read_csv(filename)"
     ],
     "language": "python",
     "metadata": {},
     "outputs": []
    },
    {
     "cell_type": "code",
     "collapsed": false,
     "input": [
      "raw.head(5)"
     ],
     "language": "python",
     "metadata": {},
     "outputs": []
    },
    {
     "cell_type": "markdown",
     "metadata": {},
     "source": [
      "However, the column headers in this case are part of the dataset and indexing by the date and time would be much more useful (currently in columns 1-2).\n",
      "\n",
      "Pandas does include nice integration of datetime parsers, but those assume that the datetime object is in one column"
     ]
    },
    {
     "cell_type": "code",
     "collapsed": false,
     "input": [
      "def parse(day, hrmin):\n",
      "    return (dt.datetime(2012, 1, 1, int(hrmin)/100, int(hrmin)%100) \n",
      "              + dt.timedelta(int(day)-1) + dt.timedelta(hours=6))"
     ],
     "language": "python",
     "metadata": {},
     "outputs": []
    },
    {
     "cell_type": "code",
     "collapsed": false,
     "input": [
      "parsed = pd.read_csv(filename, sep=',', parse_dates=[[1,2]], \n",
      "            date_parser=parse, header=None)"
     ],
     "language": "python",
     "metadata": {},
     "outputs": []
    },
    {
     "cell_type": "code",
     "collapsed": false,
     "input": [
      "parsed.head(5)"
     ],
     "language": "python",
     "metadata": {},
     "outputs": []
    },
    {
     "cell_type": "markdown",
     "metadata": {},
     "source": [
      "The raw mesonet files contain up to three different data arrays intermixed and labeled in column '0' as 1 (meteorological), 2 (agicultural) and 3 (Reese-specific).  'groupby' operations make pulling out just one array simple and efficient. "
     ]
    },
    {
     "cell_type": "code",
     "collapsed": false,
     "input": [
      "groups = parsed.groupby(0)\n",
      "met_array = parsed.ix[groups.groups.get(1)]"
     ],
     "language": "python",
     "metadata": {},
     "outputs": []
    },
    {
     "cell_type": "code",
     "collapsed": false,
     "input": [
      "met_array.head(5)"
     ],
     "language": "python",
     "metadata": {},
     "outputs": []
    },
    {
     "cell_type": "code",
     "collapsed": false,
     "input": [
      "columns = ['Time', 'Array ID', 'Station ID', '10 m Scalar Wind Speed',\n",
      "                   '10 m Vector Wind Speed', '10 m Wind Direction',\n",
      "                   '10 m Wind Direction Std', '10 m Wind Speed Std', \n",
      "                   '10 m Gust Wind Speed', '1.5 m Temperature', \n",
      "                   '9 m Temperature', '2 m Temperature', \n",
      "                   '1.5 m Relative Humidity', 'Station Pressure', 'Rainfall', \n",
      "                   'Dewpoint', '2 m Wind Speed', 'Solar Radiation'] \n",
      "met_array.columns = columns\n",
      "met_array['Station Pressure'] = met_array['Station Pressure']+600"
     ],
     "language": "python",
     "metadata": {},
     "outputs": []
    },
    {
     "cell_type": "code",
     "collapsed": false,
     "input": [
      "met_array.head()"
     ],
     "language": "python",
     "metadata": {},
     "outputs": []
    },
    {
     "cell_type": "code",
     "collapsed": false,
     "input": [
      "met_array = met_array.set_index('Time')"
     ],
     "language": "python",
     "metadata": {},
     "outputs": []
    },
    {
     "cell_type": "code",
     "collapsed": false,
     "input": [
      "print met_array.ix[dt.datetime(2012,6,1,6,20)]['9 m Temperature']\n",
      "print met_array.ix[4, 9]"
     ],
     "language": "python",
     "metadata": {},
     "outputs": []
    },
    {
     "cell_type": "code",
     "collapsed": false,
     "input": [
      "met_array['9 m Temperature'].plot()"
     ],
     "language": "python",
     "metadata": {},
     "outputs": []
    },
    {
     "cell_type": "code",
     "collapsed": false,
     "input": [
      "met_array['9 m Temperature'][dt.datetime(2012, 6, 4,):dt.datetime(2012, 6, 5)].plot()\n",
      "met_array['2 m Temperature'][dt.datetime(2012, 6, 4,):dt.datetime(2012, 6, 5)].plot()"
     ],
     "language": "python",
     "metadata": {},
     "outputs": []
    },
    {
     "cell_type": "markdown",
     "metadata": {},
     "source": [
      "We can ingest the agricultural data in a similar manner, remembering that since the array is of a different size there are columns completely filled with NaN's which can be removed"
     ]
    },
    {
     "cell_type": "code",
     "collapsed": false,
     "input": [
      "groups = parsed.groupby(0)\n",
      "agr_array = parsed.ix[groups.groups.get(2)]\n",
      "agr_array = agr_array.dropna(axis=1, how='all')\n",
      "columns = ['Time', 'Array ID', 'Station ID', \n",
      "                   '5 cm Natural Soil Temperature', \n",
      "                   '10 cm Natural Soil Temperature', \n",
      "                   '20 cm Natural Soil Temperature', \n",
      "                   '5 cm Bare Soil Temperature', \n",
      "                   '20 cm Bare Soil Temperature', \n",
      "                   '5 cm Water Content', '20 cm Water Content', \n",
      "                   '60 cm Water Content', '75 cm Water Content', \n",
      "                   'Leaf Wetness', 'Battery Voltage', 'Program Signature']\n",
      "agr_array.columns = columns\n",
      "agr_array = agr_array.set_index('Time')"
     ],
     "language": "python",
     "metadata": {},
     "outputs": []
    },
    {
     "cell_type": "code",
     "collapsed": false,
     "input": [
      "agr_array.head()"
     ],
     "language": "python",
     "metadata": {},
     "outputs": []
    },
    {
     "cell_type": "markdown",
     "metadata": {},
     "source": [
      "### We can also write functions to describe a class of mesonet array objects"
     ]
    },
    {
     "cell_type": "code",
     "collapsed": false,
     "input": [
      "!cat parse_mesonet.py"
     ],
     "language": "python",
     "metadata": {},
     "outputs": []
    },
    {
     "cell_type": "markdown",
     "metadata": {},
     "source": [
      "#### Using classes makes automating the reading of mesonet data simplier\n",
      "\n",
      "Take a look at the meso_meteogram.py script for creating a simple meteogram using the MesoArrays class"
     ]
    },
    {
     "cell_type": "markdown",
     "metadata": {},
     "source": [
      "### Adding Data\n",
      "\n",
      "Pandas also makes it relatively easy to add columns such as location information and join different DataFrame objects intelligently"
     ]
    },
    {
     "cell_type": "code",
     "collapsed": false,
     "input": [
      "filename = 'locations.txt'\n",
      "locations = pd.read_csv(filename, sep='\\t')"
     ],
     "language": "python",
     "metadata": {},
     "outputs": []
    },
    {
     "cell_type": "code",
     "collapsed": false,
     "input": [
      "locations"
     ],
     "language": "python",
     "metadata": {},
     "outputs": []
    },
    {
     "cell_type": "code",
     "collapsed": false,
     "input": [
      "met_array.ix[starttime]['Station ID']"
     ],
     "language": "python",
     "metadata": {},
     "outputs": []
    },
    {
     "cell_type": "code",
     "collapsed": false,
     "input": [
      "starttime = dt.datetime(2012,6,15,0)\n",
      "endtime   = starttime + dt.timedelta(hours=24)\n",
      "tag = str(int(met_array.ix[starttime]['Station ID']))\n",
      "met_array['Lat'] = (np.ones(len(met_array.index)) * \n",
      "                   locations[locations['Logger ID'] == tag]\n",
      "                   ['Lat-decimal'].values)\n",
      "met_array['Lon'] = (np.ones(len(met_array.index)) * \n",
      "                   locations[locations['Logger ID'] == tag]\n",
      "                   ['Long.-decimal'].values)"
     ],
     "language": "python",
     "metadata": {},
     "outputs": []
    },
    {
     "cell_type": "code",
     "collapsed": false,
     "input": [
      "met_array"
     ],
     "language": "python",
     "metadata": {},
     "outputs": []
    },
    {
     "cell_type": "code",
     "collapsed": false,
     "input": [
      "import mesonet_calculations\n",
      "array1 = mesonet_calculations.meso_operations('raw_data/REES1206.txt', starttime, endtime, locations)\n",
      "array2 = mesonet_calculations.meso_operations('raw_data/CHIL1206.txt', starttime, endtime, locations)\n",
      "new_ar = pd.concat([array1, array2], axis=0)"
     ],
     "language": "python",
     "metadata": {},
     "outputs": []
    },
    {
     "cell_type": "code",
     "collapsed": false,
     "input": [
      "new_ar = new_ar.set_index('Station ID', append=True)\n",
      "new_ar.ix[starttime].T"
     ],
     "language": "python",
     "metadata": {},
     "outputs": []
    },
    {
     "cell_type": "markdown",
     "metadata": {},
     "source": [
      "#### The functionality is very useful for creating new arrays\n",
      "\n",
      "An example of using this for creating surface plots from the mesonet data files is in meso_surface.py\n",
      "\n",
      "These new arrays can also be easily saved using the Pandas to_csv function, etc."
     ]
    },
    {
     "cell_type": "code",
     "collapsed": false,
     "input": [
      "new_ar.to_csv('two_arrays.csv')"
     ],
     "language": "python",
     "metadata": {},
     "outputs": []
    },
    {
     "cell_type": "code",
     "collapsed": false,
     "input": [
      "!head two_arrays.csv"
     ],
     "language": "python",
     "metadata": {},
     "outputs": []
    },
    {
     "cell_type": "markdown",
     "metadata": {},
     "source": [
      "Pandas can also handle missing data within the DataFrame or be used to fill NaN's for using the DataFrame in more complicated functions.  The DataFrame with missing data can also be transformed into an numpy masked array."
     ]
    },
    {
     "cell_type": "code",
     "collapsed": false,
     "input": [
      "filename = 'miss1206.txt'"
     ],
     "language": "python",
     "metadata": {},
     "outputs": []
    },
    {
     "cell_type": "code",
     "collapsed": false,
     "input": [
      "missing = mesonet_calculations.meso_operations(filename, dt.datetime(2012,6,1,6,0), dt.datetime(2012,6,1,12), locations)"
     ],
     "language": "python",
     "metadata": {},
     "outputs": []
    },
    {
     "cell_type": "code",
     "collapsed": false,
     "input": [
      "missing.head().T"
     ],
     "language": "python",
     "metadata": {},
     "outputs": []
    },
    {
     "cell_type": "code",
     "collapsed": false,
     "input": [
      "missing['10 m Scalar Wind Speed'].plot()"
     ],
     "language": "python",
     "metadata": {},
     "outputs": []
    },
    {
     "cell_type": "code",
     "collapsed": false,
     "input": [
      "missing.ffill().head().T"
     ],
     "language": "python",
     "metadata": {},
     "outputs": []
    },
    {
     "cell_type": "markdown",
     "metadata": {},
     "source": [
      "###Some other tools\n",
      "\n",
      "To quickly examine some of the other tools available we will go back to the full Childress set that we used an example from earlier earlier.  "
     ]
    },
    {
     "cell_type": "code",
     "collapsed": false,
     "input": [
      "met_array = mesonet_calculations.meso_operations('raw_data/CHIL1206.txt',\n",
      "                                              dt.datetime(2012,6,1,6), \n",
      "                                              dt.datetime(2012,7,1,5,55), locations)"
     ],
     "language": "python",
     "metadata": {},
     "outputs": []
    },
    {
     "cell_type": "code",
     "collapsed": false,
     "input": [
      "met_array['Rainfall'].cumsum().plot()"
     ],
     "language": "python",
     "metadata": {},
     "outputs": []
    },
    {
     "cell_type": "code",
     "collapsed": false,
     "input": [
      "times = dt.datetime(2012,6,1,18)+dt.timedelta(days=1)*np.arange(0,30)\n",
      "noons = met_array.ix[times]"
     ],
     "language": "python",
     "metadata": {},
     "outputs": []
    },
    {
     "cell_type": "code",
     "collapsed": false,
     "input": [
      "noons['2 m Temperature'].hist(bins=30)"
     ],
     "language": "python",
     "metadata": {},
     "outputs": []
    },
    {
     "cell_type": "code",
     "collapsed": false,
     "input": [
      "print noons['2 m Temperature'].mean()\n",
      "print noons['2 m Temperature'].var()\n",
      "print noons['2 m Temperature'].skew()\n",
      "print noons['2 m Temperature'].kurt()"
     ],
     "language": "python",
     "metadata": {},
     "outputs": []
    },
    {
     "cell_type": "code",
     "collapsed": false,
     "input": [
      "noons['2 m Temperature'].describe()"
     ],
     "language": "python",
     "metadata": {},
     "outputs": []
    },
    {
     "cell_type": "code",
     "collapsed": false,
     "input": [
      "noons['2 m Temperature'].plot()\n",
      "pd.rolling_mean(noons['2 m Temperature'], 5, center=True).plot()"
     ],
     "language": "python",
     "metadata": {},
     "outputs": []
    },
    {
     "cell_type": "markdown",
     "metadata": {},
     "source": [
      "####But be careful and make sure the operations act as expected\n",
      "\n",
      "(which is a good practice anyway)"
     ]
    },
    {
     "cell_type": "code",
     "collapsed": true,
     "input": [
      "noons['2 m Temperature'].plot()\n",
      "pd.rolling_window(noons['2 m Temperature'], 5, 'bartlett', center=True).plot()"
     ],
     "language": "python",
     "metadata": {},
     "outputs": []
    },
    {
     "cell_type": "markdown",
     "metadata": {},
     "source": [
      "### Parallel programming \n",
      "\n",
      "Setting up independent programs to run in parallel is easy with Python.  Check out auto_pull.py for an example which is used to copy over a day's worth of data from each WTLMA station in parallel to the server each night."
     ]
    }
   ],
   "metadata": {}
  }
 ]
}