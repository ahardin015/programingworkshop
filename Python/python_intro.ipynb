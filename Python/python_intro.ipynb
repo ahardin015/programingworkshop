{
 "metadata": {
  "name": "matplotlib_intro"
 },
 "nbformat": 3,
 "nbformat_minor": 0,
 "worksheets": [
  {
   "cells": [
    {
     "cell_type": "markdown",
     "metadata": {},
     "source": [
      "Introduction to Python, Numpy, and Matplotlib\n",
      "============================================="
     ]
    },
    {
     "cell_type": "markdown",
     "metadata": {},
     "source": [
      "You will start almost every script with import statements. They import libraries and modules that you will use. Some of the most common libraries are NumPy (numerics), SymPy (symbolics), Matplotlib (plotting), and Pandas (time series and data). The syntax is as follows"
     ]
    },
    {
     "cell_type": "markdown",
     "metadata": {},
     "source": [
      "If you want to import the entire library, you do this:"
     ]
    },
    {
     "cell_type": "code",
     "collapsed": false,
     "input": [
      "import numpy"
     ],
     "language": "python",
     "metadata": {},
     "outputs": []
    },
    {
     "cell_type": "markdown",
     "metadata": {},
     "source": [
      "If you want to import a library and give it a different name for ease (you will see why you want to do this in a little bit) you simply use the  \"as\" command"
     ]
    },
    {
     "cell_type": "code",
     "collapsed": false,
     "input": [
      "import numpy as np"
     ],
     "language": "python",
     "metadata": {},
     "outputs": []
    },
    {
     "cell_type": "markdown",
     "metadata": {},
     "source": [
      "If you want to import just a specific module from a libary, you would do this:\n"
     ]
    },
    {
     "cell_type": "code",
     "collapsed": false,
     "input": [
      "from numpy import cos "
     ],
     "language": "python",
     "metadata": {},
     "outputs": []
    },
    {
     "cell_type": "markdown",
     "metadata": {},
     "source": [
      "or..."
     ]
    },
    {
     "cell_type": "code",
     "collapsed": false,
     "input": [
      "from numpy import cos as c"
     ],
     "language": "python",
     "metadata": {},
     "outputs": []
    },
    {
     "cell_type": "markdown",
     "metadata": {},
     "source": [
      "Now I have imported the cosine function from the numpy library and named it c (usually would just use \"cos\", but just an example). So what do I do with this? Simple, use \"c\" as the cosine function, giving it input within a set of parantheticals"
     ]
    },
    {
     "cell_type": "code",
     "collapsed": false,
     "input": [
      "c(180*2*np.pi/360) # cosine of 180 degrees"
     ],
     "language": "python",
     "metadata": {},
     "outputs": []
    },
    {
     "cell_type": "code",
     "collapsed": false,
     "input": [
      "c(0)"
     ],
     "language": "python",
     "metadata": {},
     "outputs": []
    },
    {
     "cell_type": "markdown",
     "metadata": {},
     "source": [
      "Typically, would utilize the numpy library like this, calling the cosine function from the library with this syntax:"
     ]
    },
    {
     "cell_type": "code",
     "collapsed": false,
     "input": [
      "np.cos(0)"
     ],
     "language": "python",
     "metadata": {},
     "outputs": []
    },
    {
     "cell_type": "markdown",
     "metadata": {},
     "source": [
      "So instead of calling \"numpy\" everytime you want to use one of the modules, you just call \"np\". This makes it easier when you want to use plotting functions from matplotlib that might have long names. For example, "
     ]
    },
    {
     "cell_type": "code",
     "collapsed": false,
     "input": [
      "from matplotlib import pyplot as plt"
     ],
     "language": "python",
     "metadata": {},
     "outputs": []
    },
    {
     "cell_type": "code",
     "collapsed": false,
     "input": [
      "import matplotlib.pyplot as plt #same thing"
     ],
     "language": "python",
     "metadata": {},
     "outputs": []
    },
    {
     "cell_type": "markdown",
     "metadata": {},
     "source": [
      "You will find yourself importing many different libraries in more complicated scripts, that employ data processing, reading, and plotting. This functionality is very unique to python (Java does it as well to some extent)"
     ]
    },
    {
     "cell_type": "markdown",
     "metadata": {},
     "source": [
      "If you don't want to use the \"np\" or \"plt\" extensions, you can import everything from a library using this command:\n"
     ]
    },
    {
     "cell_type": "code",
     "collapsed": false,
     "input": [
      "from numpy import *"
     ],
     "language": "python",
     "metadata": {},
     "outputs": []
    },
    {
     "cell_type": "markdown",
     "metadata": {},
     "source": [
      "Imports all of numpy's modules and you can use \"cos\" just by itself"
     ]
    },
    {
     "cell_type": "code",
     "collapsed": false,
     "input": [
      "cos(0)"
     ],
     "language": "python",
     "metadata": {},
     "outputs": []
    },
    {
     "cell_type": "markdown",
     "metadata": {},
     "source": [
      "You will most likely use Numpy and Matplotlib the most of any libraries (maybe Pandas as well)"
     ]
    },
    {
     "cell_type": "markdown",
     "metadata": {},
     "source": [
      "NUMPY\n",
      "====="
     ]
    },
    {
     "cell_type": "markdown",
     "metadata": {},
     "source": [
      "Some real basic examples in numpy, you will get experience fast in manipulating this library to your benefit"
     ]
    },
    {
     "cell_type": "markdown",
     "metadata": {},
     "source": [
      "Make an array from a range of numbers"
     ]
    },
    {
     "cell_type": "code",
     "collapsed": false,
     "input": [
      "x = np.arange(40) # default is a range from 0 to the input value by 1\n",
      "y = np.arange(0,40,2) # can specify the increment\n",
      "z = np.arange(0,20+1,+1) #makes the range go TO 20, by default will stop one short of the given value (i.e. 20 values in the array)\n",
      "print z"
     ],
     "language": "python",
     "metadata": {},
     "outputs": []
    },
    {
     "cell_type": "code",
     "collapsed": false,
     "input": [
      "b = y.reshape(4,5) # reshape the array into a 3x7 2d array\n",
      "print b"
     ],
     "language": "python",
     "metadata": {},
     "outputs": []
    },
    {
     "cell_type": "code",
     "collapsed": false,
     "input": [
      "a = y.reshape(2,2,5) # 3d array\n",
      "print a"
     ],
     "language": "python",
     "metadata": {},
     "outputs": []
    },
    {
     "cell_type": "code",
     "collapsed": false,
     "input": [
      ">>> a = array( [20,30,40,50] )\n",
      ">>> b = arange( 4 )\n",
      ">>> b\n",
      "array([0, 1, 2, 3])\n",
      ">>> c = a-b\n",
      ">>> c\n",
      "array([20, 29, 38, 47])\n",
      ">>> b**2\n",
      "array([0, 1, 4, 9])\n",
      ">>> 10*sin(a)\n",
      "array([ 9.12945251, -9.88031624,  7.4511316 , -2.62374854])\n",
      ">>> a<35\n"
     ],
     "language": "python",
     "metadata": {},
     "outputs": []
    },
    {
     "cell_type": "markdown",
     "metadata": {},
     "source": [
      "####Indexing"
     ]
    },
    {
     "cell_type": "markdown",
     "metadata": {},
     "source": [
      "Arrays are easy to maneuver as well, indexing is very similar to other languages. It is 0 based FYI"
     ]
    },
    {
     "cell_type": "code",
     "collapsed": false,
     "input": [
      "print a[2]\n",
      "print a[1]\n",
      "print a[0]"
     ],
     "language": "python",
     "metadata": {},
     "outputs": []
    },
    {
     "cell_type": "code",
     "collapsed": false,
     "input": [
      "print a[-1] # print the last entry in the array"
     ],
     "language": "python",
     "metadata": {},
     "outputs": []
    },
    {
     "cell_type": "code",
     "collapsed": false,
     "input": [
      "print a[0:2]"
     ],
     "language": "python",
     "metadata": {},
     "outputs": []
    },
    {
     "cell_type": "code",
     "collapsed": false,
     "input": [
      "print a[: :-1] #print a in reverse"
     ],
     "language": "python",
     "metadata": {},
     "outputs": []
    },
    {
     "cell_type": "code",
     "collapsed": false,
     "input": [
      "a.shape # what are the dimensions of the array? 4X1"
     ],
     "language": "python",
     "metadata": {},
     "outputs": []
    },
    {
     "cell_type": "code",
     "collapsed": false,
     "input": [
      "y = np.arange(0,40,2)\n",
      "b = y.reshape(2,2,5)\n",
      "b.shape # 3 dimensional"
     ],
     "language": "python",
     "metadata": {},
     "outputs": []
    },
    {
     "cell_type": "markdown",
     "metadata": {},
     "source": [
      "#### For Loops"
     ]
    },
    {
     "cell_type": "code",
     "collapsed": false,
     "input": [
      "y = np.arange(0,40,2)\n",
      "for numbers in y:\n",
      "    print numbers**2  # just print the square of each value\n",
      "    \n",
      "#### INDENTATION IS IMPORTANT!! Whatever is indented will be included in the for loop"
     ],
     "language": "python",
     "metadata": {},
     "outputs": []
    },
    {
     "cell_type": "markdown",
     "metadata": {},
     "source": [
      "It's even easier than that thought, You can do many for loops in just ONE LINE!"
     ]
    },
    {
     "cell_type": "code",
     "collapsed": false,
     "input": [
      "test = [str(nums)+'*' for nums in y] # make a new array with the numbers from y with an added asteristic. Now an array of strings\n",
      "print test"
     ],
     "language": "python",
     "metadata": {},
     "outputs": []
    },
    {
     "cell_type": "markdown",
     "metadata": {},
     "source": [
      "If you just want to mathematically alter the elements of an array, can just use array mathematics\n"
     ]
    },
    {
     "cell_type": "code",
     "collapsed": false,
     "input": [
      "y*2"
     ],
     "language": "python",
     "metadata": {},
     "outputs": []
    },
    {
     "cell_type": "code",
     "collapsed": false,
     "input": [
      "(y*2 + 2)**3"
     ],
     "language": "python",
     "metadata": {},
     "outputs": []
    },
    {
     "cell_type": "markdown",
     "metadata": {},
     "source": [
      "   #### Functions"
     ]
    },
    {
     "cell_type": "markdown",
     "metadata": {},
     "source": [
      "Lets say you want to make a unique manipulation of an array, or read in data files multiple times in a script, well you may think, \"A function would be really nice right now\". Python has those too! Here is the syntax\n"
     ]
    },
    {
     "cell_type": "code",
     "collapsed": false,
     "input": [
      "### This is a stupid example, but you get the idea\n",
      "def pass_to(filename,extension):\n",
      "    \"\"\" This is a docstring, which tells the user what the function is for. Often, will define what the inputs and outputs are\n",
      "    Inputs: Filename-string of the desired file to be read in\n",
      "            extension-string \n",
      "    Output: Return the array of the read in file \"\"\"\n",
      "    a=np.genfromtext(filename)\n",
      "    print 'Filename is: '+filename\n",
      "    return a"
     ],
     "language": "python",
     "metadata": {},
     "outputs": []
    },
    {
     "cell_type": "markdown",
     "metadata": {},
     "source": [
      "MATPLOTLIB\n",
      "=========="
     ]
    },
    {
     "cell_type": "markdown",
     "metadata": {},
     "source": [
      "Introduction to basic plotting in python\n",
      "----------------------------------------"
     ]
    },
    {
     "cell_type": "markdown",
     "metadata": {},
     "source": [
      "# Introduction\n",
      "\n",
      "Matplotlib is an excellent 2D and 3D graphics library for generating scientific figures. Some of the many advantages of this library includes:\n",
      "\n",
      "* Easy to get started\n",
      "* Support for $\\LaTeX$ formatted labels and texts\n",
      "* Great control of every element in a figure, including figure size and DPI. \n",
      "* High-quality output in many formats, including PNG, PDF, SVG, EPS.\n",
      "* GUI for interactively exploring figures *and* support for headless generation of figure files (useful for batch jobs).\n",
      "\n",
      "One of the of the key features of matplotlib that I would like to emphasize, and that I think makes matplotlib highly suitable for generating figures for scientific publications is that all aspects of the figure can be controlled *programmatically*. This is important for reproducibility, convenient when one need to regenerate the figure with updated data or changes its appearance. \n",
      "\n",
      "More information at the Matplotlib web page: http://matplotlib.org/"
     ]
    },
    {
     "cell_type": "markdown",
     "metadata": {},
     "source": [
      "To get started using matplotlib in python, you must \"import\" the library using:\n"
     ]
    },
    {
     "cell_type": "code",
     "collapsed": false,
     "input": [
      "from pylab import *"
     ],
     "language": "python",
     "metadata": {},
     "outputs": []
    },
    {
     "cell_type": "markdown",
     "metadata": {},
     "source": [
      "Or you can import pyplot directly from the matplotlib library (typically what I do, since pyplot is what I use the most:\n"
     ]
    },
    {
     "cell_type": "code",
     "collapsed": false,
     "input": [
      "import matplotlib.pyplot as plt"
     ],
     "language": "python",
     "metadata": {},
     "outputs": []
    },
    {
     "cell_type": "markdown",
     "metadata": {},
     "source": [
      "Example:"
     ]
    },
    {
     "cell_type": "code",
     "collapsed": false,
     "input": [
      "%pylab inline  \n",
      "# this just insets the plots into ipython notebook, won't use this in a normal python script"
     ],
     "language": "python",
     "metadata": {},
     "outputs": []
    },
    {
     "cell_type": "code",
     "collapsed": false,
     "input": [
      "import numpy as np\n",
      "plt.subplot(1,2,1)\n",
      "x = np.arange(0,10,1)\n",
      "y = x**2\n",
      "plt.plot(x,y,'r')\n",
      "plt.title('Example Plot 1')\n",
      "plt.xlabel('x')\n",
      "plt.ylabel('y')\n",
      "plt.subplot(1,2,2)\n",
      "plt.plot(y,x,'b--')\n",
      "plt.title('Example Plot 2')\n",
      "plt.xlabel('y')\n",
      "plt.ylabel('x')\n",
      "plt.show()"
     ],
     "language": "python",
     "metadata": {},
     "outputs": []
    },
    {
     "cell_type": "markdown",
     "metadata": {},
     "source": [
      "# The matplotlib object-oriented API\n",
      "\n",
      "The main idea with object-oriented programming is to have objects that one can apply functions and actions on, and no object or program states should be global (such as the MATLAB-like API). The real advantage of this approach becomes apparent when more than one figure is created, or when a figure contains more than one subplot. \n",
      "\n",
      "To use the object-oriented API we start out very much like in the previous example, but instead of creating a new global figure instance we store a reference to the newly created figure instance in the `fig` variable, and from it we create a new axis instance `axes` using the `add_axes` method in the `Figure` class instance `fig`."
     ]
    },
    {
     "cell_type": "code",
     "collapsed": false,
     "input": [
      "fig = plt.figure()\n",
      "\n",
      "axes = fig.add_axes([0.1, 0.1, 0.8, 0.8]) # left, bottom, width, height (range 0 to 1)\n",
      "\n",
      "axes.plot(x, y, 'r')\n",
      "\n",
      "axes.set_xlabel('x')\n",
      "axes.set_ylabel('y')\n",
      "axes.set_title('title');"
     ],
     "language": "python",
     "metadata": {},
     "outputs": []
    },
    {
     "cell_type": "markdown",
     "metadata": {},
     "source": [
      "Although a little bit more code is involved, the advantage is that we now have full control of where the plot axes are place, and we can easily add more than one axis to the figure."
     ]
    },
    {
     "cell_type": "code",
     "collapsed": false,
     "input": [
      "fig = plt.figure()\n",
      "\n",
      "axes1 = fig.add_axes([0.1, 0.1, 0.8, 0.8]) # main axes\n",
      "axes2 = fig.add_axes([0.2, 0.5, 0.4, 0.3]) # inset axes\n",
      "\n",
      "# main figure\n",
      "axes1.plot(x, y, 'r')\n",
      "axes1.set_xlabel('x')\n",
      "axes1.set_ylabel('y')\n",
      "axes1.set_title('title')\n",
      "\n",
      "# insert\n",
      "axes2.plot(y, x, 'g')\n",
      "axes2.set_xlabel('y')\n",
      "axes2.set_ylabel('x')\n",
      "axes2.set_title('insert title');"
     ],
     "language": "python",
     "metadata": {},
     "outputs": []
    },
    {
     "cell_type": "markdown",
     "metadata": {},
     "source": [
      "If we don't care to be explicit about where our plot axes are placed in the figure canvas, then we can use one of the many axis layout managers in matplotlib. My favorite is subplots, which can be used like this:"
     ]
    },
    {
     "cell_type": "code",
     "collapsed": false,
     "input": [
      "fig, axes = plt.subplots()\n",
      "\n",
      "axes.plot(x, y, 'r')\n",
      "axes.set_xlabel('x')\n",
      "axes.set_ylabel('y')\n",
      "axes.set_title('title');"
     ],
     "language": "python",
     "metadata": {},
     "outputs": []
    },
    {
     "cell_type": "code",
     "collapsed": false,
     "input": [
      "fig, axes = plt.subplots(nrows=1, ncols=2)\n",
      "\n",
      "for ax in axes:\n",
      "    ax.plot(x, y, 'r')\n",
      "    ax.set_xlabel('x')\n",
      "    ax.set_ylabel('y')\n",
      "    ax.set_title('title');"
     ],
     "language": "python",
     "metadata": {},
     "outputs": []
    },
    {
     "cell_type": "markdown",
     "metadata": {},
     "source": [
      "That was easy, but it isn't so pretty with overlapping figure axes and labels, right?\n",
      "\n",
      "We can deal with that by using the `fig.tight_layout` method, which automatically adjusts the positions of the axes on the figure canvas so that there is no overlapping content:"
     ]
    },
    {
     "cell_type": "code",
     "collapsed": false,
     "input": [
      "fig, axes = plt.subplots(nrows=1, ncols=2)\n",
      "\n",
      "for ax in axes:\n",
      "    ax.plot(x, y, 'r')\n",
      "    ax.set_xlabel('x')\n",
      "    ax.set_ylabel('y')\n",
      "    ax.set_title('title')\n",
      "    \n",
      "fig.tight_layout()"
     ],
     "language": "python",
     "metadata": {},
     "outputs": []
    },
    {
     "cell_type": "code",
     "collapsed": false,
     "input": [
      "fig = plt.figure(figsize=(8,4), dpi=100)\n",
      "# Or you can pass to subplots\n",
      "fig, axes = plt.subplots(figsize=(12,3))\n",
      "\n",
      "axes.plot(x, y, 'r')\n",
      "axes.set_xlabel('x')\n",
      "axes.set_ylabel('y')\n",
      "axes.set_title('title');"
     ],
     "language": "python",
     "metadata": {},
     "outputs": []
    },
    {
     "cell_type": "markdown",
     "metadata": {},
     "source": [
      "Very easy to save figures as well"
     ]
    },
    {
     "cell_type": "code",
     "collapsed": false,
     "input": [
      "fig.savefig(\"filename.png\")\n",
      "\n",
      "# or\n",
      "\n",
      "fig.savefig(\"filename.png\", dpi=200)"
     ],
     "language": "python",
     "metadata": {},
     "outputs": []
    },
    {
     "cell_type": "markdown",
     "metadata": {},
     "source": [
      "For a paper, use PDF whenever possible for best possible format (in my opinion, although I think this is generally accepted)"
     ]
    },
    {
     "cell_type": "code",
     "collapsed": false,
     "input": [
      "ax.plot(x, x**2, label=\"curve1\")\n",
      "ax.plot(x, x**3, label=\"curve2\")\n",
      "ax.legend();"
     ],
     "language": "python",
     "metadata": {},
     "outputs": []
    },
    {
     "cell_type": "markdown",
     "metadata": {},
     "source": [
      "### Line and marker styles\n",
      "\n",
      "To change the line width we can use the `linewidth` or `lw` keyword argument, and the line style can be selected using the `linestyle` or `ls` keyword arguments:"
     ]
    },
    {
     "cell_type": "code",
     "collapsed": false,
     "input": [
      "fig, ax = subplots(figsize=(12,6))\n",
      "\n",
      "ax.plot(x, x+1, color=\"blue\", linewidth=0.25)\n",
      "ax.plot(x, x+2, color=\"blue\", linewidth=0.50)\n",
      "ax.plot(x, x+3, color=\"blue\", linewidth=1.00)\n",
      "ax.plot(x, x+4, color=\"blue\", linewidth=2.00)\n",
      "\n",
      "# possible linestype options \u2018-\u2018, \u2018\u2013\u2019, \u2018-.\u2019, \u2018:\u2019, \u2018steps\u2019\n",
      "ax.plot(x, x+5, color=\"red\", lw=2, linestyle='-')\n",
      "ax.plot(x, x+6, color=\"red\", lw=2, ls='-.')\n",
      "ax.plot(x, x+7, color=\"red\", lw=2, ls=':')\n",
      "\n",
      "# custom dash\n",
      "line, = ax.plot(x, x+8, color=\"black\", lw=1.50)\n",
      "line.set_dashes([5, 10, 15, 10]) # format: line length, space length, ...\n",
      "\n",
      "# possible marker symbols: marker = '+', 'o', '*', 's', ',', '.', '1', '2', '3', '4', ...\n",
      "ax.plot(x, x+ 9, color=\"green\", lw=2, ls='*', marker='+')\n",
      "ax.plot(x, x+10, color=\"green\", lw=2, ls='*', marker='o')\n",
      "ax.plot(x, x+11, color=\"green\", lw=2, ls='*', marker='s')\n",
      "ax.plot(x, x+12, color=\"green\", lw=2, ls='*', marker='1')\n",
      "\n",
      "# marker size and color\n",
      "ax.plot(x, x+13, color=\"purple\", lw=1, ls='-', marker='o', markersize=2)\n",
      "ax.plot(x, x+14, color=\"purple\", lw=1, ls='-', marker='o', markersize=4)\n",
      "ax.plot(x, x+15, color=\"purple\", lw=1, ls='-', marker='o', markersize=8, markerfacecolor=\"red\")\n",
      "ax.plot(x, x+16, color=\"purple\", lw=1, ls='-', marker='s', markersize=8, \n",
      "        markerfacecolor=\"yellow\", markeredgewidth=2, markeredgecolor=\"blue\");"
     ],
     "language": "python",
     "metadata": {},
     "outputs": []
    },
    {
     "cell_type": "markdown",
     "metadata": {},
     "source": [
      "## Control over axis apperance\n",
      "\n",
      "The appearance of the axes is an important aspect of a figure that we often need to modify to make a publication quality graphics. We need to be able to control where the ticks and labels are placed, modify the font size and possibly the labels used on the axes. In this section we will look at controling those properties in a matplotlib figure.\n",
      "\n",
      "### Plot range\n",
      "\n",
      "The first thing we might want to configure is the ranges of the axes. We can do it using the `set_ylim` and `set_xlim` methods in the axis object, or `axis('tight')` for automatrically getting \"tightly fitted\" axes ranges."
     ]
    },
    {
     "cell_type": "code",
     "collapsed": false,
     "input": [
      "fig, axes = subplots(1, 3, figsize=(12, 4))\n",
      "\n",
      "axes[0].plot(x, x**2, x, x**3)\n",
      "axes[0].set_title(\"default axes ranges\")\n",
      "\n",
      "axes[1].plot(x, x**2, x, x**3)\n",
      "axes[1].axis('tight')\n",
      "axes[1].set_title(\"tight axes\")\n",
      "\n",
      "axes[2].plot(x, x**2, x, x**3)\n",
      "axes[2].set_ylim([0, 60])\n",
      "axes[2].set_xlim([2, 5])\n",
      "axes[2].set_title(\"custom axes range\");"
     ],
     "language": "python",
     "metadata": {},
     "outputs": []
    },
    {
     "cell_type": "markdown",
     "metadata": {},
     "source": [
      "### Placement of ticks and custom tick labels\n",
      "\n",
      "We can explicitly determine where we want the axis ticks using the `set_xticks` and `set_yticks`, which both takes a list of values for where on the axis the ticks are to be placed. We can also use the functions `set_xticklabels` and `set_yticklabels` to provide a list of custom text labels for each tick location:"
     ]
    },
    {
     "cell_type": "code",
     "collapsed": false,
     "input": [
      "fig, ax = subplots(figsize=(10, 4))\n",
      "\n",
      "ax.plot(x, x**2, x, x**3, lw=2)\n",
      "\n",
      "ax.set_xticks([1, 2, 3, 4, 5])\n",
      "ax.set_xticklabels([r'$\\alpha$', r'$\\beta$', r'$\\gamma$', r'$\\delta$', r'$\\epsilon$'], fontsize=18)\n",
      "\n",
      "yticks = [0, 50, 100, 150]\n",
      "ax.set_yticks(yticks)\n",
      "ax.set_yticklabels([\"$%.1f$\" % y for y in yticks], fontsize=18); # use LaTeX formatted labels"
     ],
     "language": "python",
     "metadata": {},
     "outputs": []
    },
    {
     "cell_type": "markdown",
     "metadata": {},
     "source": [
      "Turning on and off grid lines"
     ]
    },
    {
     "cell_type": "code",
     "collapsed": false,
     "input": [
      "fig, axes = subplots(1, 2, figsize=(10,3))\n",
      "\n",
      "# default grid appearance\n",
      "axes[0].plot(x, x**2, x, x**3, lw=2)\n",
      "axes[0].grid(True)\n",
      "\n",
      "# custom grid appearance\n",
      "axes[1].plot(x, x**2, x, x**3, lw=2)\n",
      "axes[1].grid(color='b', alpha=0.5, linestyle='dashed', linewidth=0.5)"
     ],
     "language": "python",
     "metadata": {},
     "outputs": []
    },
    {
     "cell_type": "markdown",
     "metadata": {},
     "source": [
      "### Twin axes\n",
      "\n",
      "Sometimes it is useful to have dual x or y axes in a figure, for example when plotting curves with differnt units together. Matplotlib supports this with the `twinx` and `twiny` functions:"
     ]
    },
    {
     "cell_type": "code",
     "collapsed": false,
     "input": [
      "fig, ax1 = subplots()\n",
      "\n",
      "ax1.plot(x, x**2, lw=2, color=\"blue\")\n",
      "ax1.set_ylabel(r\"area $(m^2)$\", fontsize=18, color=\"blue\")\n",
      "for label in ax1.get_yticklabels():\n",
      "    label.set_color(\"blue\")\n",
      "    \n",
      "ax2 = ax1.twinx()\n",
      "ax2.plot(x, x**3, lw=2, color=\"red\")\n",
      "ax2.set_ylabel(r\"volume $(m^3)$\", fontsize=18, color=\"red\")\n",
      "for label in ax2.get_yticklabels():\n",
      "    label.set_color(\"red\")"
     ],
     "language": "python",
     "metadata": {},
     "outputs": []
    },
    {
     "cell_type": "markdown",
     "metadata": {},
     "source": [
      "## Other 2D plot styles\n",
      "\n",
      "In addition to the function `plot`, there are a number of other functions for generating different kind of plots. See the matplotlib plot gallery for a complete list of avaiable plot types: http://matplotlib.org/gallery.html. Some of the more useful ones are show below:"
     ]
    },
    {
     "cell_type": "code",
     "collapsed": false,
     "input": [
      "n = array([0,1,2,3,4,5])\n",
      "xx = np.linspace(-0.75, 1., 100)\n",
      "fig, axes = subplots(1, 4, figsize=(12,3))\n",
      "\n",
      "axes[0].scatter(xx, xx + 0.25*randn(len(xx)))\n",
      "\n",
      "axes[1].step(n, n**2, lw=2)\n",
      "\n",
      "axes[2].bar(n, n**2, align=\"center\", width=0.5, alpha=0.5)\n",
      "\n",
      "axes[3].fill_between(x, x**2, x**3, color=\"green\", alpha=0.5);"
     ],
     "language": "python",
     "metadata": {},
     "outputs": []
    },
    {
     "cell_type": "code",
     "collapsed": false,
     "input": [
      "# polar plot using add_axes and polar projection\n",
      "fig = plt.figure()\n",
      "ax = fig.add_axes([0.0, 0.0, .6, .6], polar=True)\n",
      "t = linspace(0, 2 * pi, 100)\n",
      "ax.plot(t, t, color='blue', lw=3);"
     ],
     "language": "python",
     "metadata": {},
     "outputs": []
    },
    {
     "cell_type": "markdown",
     "metadata": {},
     "source": [
      "## Figures with Multiple Subplots and Insets"
     ]
    },
    {
     "cell_type": "code",
     "collapsed": false,
     "input": [
      "fig = plt.figure()\n",
      "ax1 = plt.subplot2grid((3,3), (0,0), colspan=3)\n",
      "ax2 = plt.subplot2grid((3,3), (1,0), colspan=2)\n",
      "ax3 = plt.subplot2grid((3,3), (1,2), rowspan=2)\n",
      "ax4 = plt.subplot2grid((3,3), (2,0))\n",
      "ax5 = plt.subplot2grid((3,3), (2,1))\n",
      "fig.tight_layout()"
     ],
     "language": "python",
     "metadata": {},
     "outputs": []
    },
    {
     "cell_type": "markdown",
     "metadata": {},
     "source": [
      "## Colormap and contour figures\n",
      "\n",
      "Colormaps and contour figures are useful for plotting functions of two variables. In most of these functions we will use a colormap to encode one dimension of the data. There is a number of predefined colormaps, and it is relatively straightforward to define custom colormaps. For a list of pre-defined colormaps, see:\n",
      "\n",
      "http://www.scipy.org/Cookbook/Matplotlib/Show_colormaps"
     ]
    },
    {
     "cell_type": "code",
     "collapsed": false,
     "input": [
      "alpha = 0.7\n",
      "phi_ext = 2 * pi * 0.5\n",
      "\n",
      "def flux_qubit_potential(phi_m, phi_p):\n",
      "    return 2 + alpha - 2 * cos(phi_p)*cos(phi_m) - alpha * cos(phi_ext - 2*phi_p)"
     ],
     "language": "python",
     "metadata": {},
     "outputs": []
    },
    {
     "cell_type": "code",
     "collapsed": false,
     "input": [
      "phi_m = linspace(0, 2*pi, 100)\n",
      "phi_p = linspace(0, 2*pi, 100)\n",
      "X,Y = meshgrid(phi_p, phi_m)\n",
      "Z = flux_qubit_potential(X, Y).T"
     ],
     "language": "python",
     "metadata": {},
     "outputs": []
    },
    {
     "cell_type": "markdown",
     "metadata": {},
     "source": [
      "#### Pcolor"
     ]
    },
    {
     "cell_type": "code",
     "collapsed": false,
     "input": [
      "fig, ax = subplots()\n",
      "\n",
      "p = ax.pcolor(X/(2*pi), Y/(2*pi), Z, cmap=cm.RdBu, vmin=abs(Z).min(), vmax=abs(Z).max())\n",
      "cb = fig.colorbar(p)"
     ],
     "language": "python",
     "metadata": {},
     "outputs": []
    },
    {
     "cell_type": "markdown",
     "metadata": {},
     "source": [
      "#### imshow"
     ]
    },
    {
     "cell_type": "code",
     "collapsed": false,
     "input": [
      "fig, ax = subplots()\n",
      "\n",
      "im = imshow(Z, cmap=cm.RdBu, vmin=abs(Z).min(), vmax=abs(Z).max(), extent=[0, 1, 0, 1])\n",
      "im.set_interpolation('bilinear')\n",
      "\n",
      "cb = fig.colorbar(im)"
     ],
     "language": "python",
     "metadata": {},
     "outputs": []
    },
    {
     "cell_type": "markdown",
     "metadata": {},
     "source": [
      "#### contour\n"
     ]
    },
    {
     "cell_type": "code",
     "collapsed": false,
     "input": [
      "fig, ax = subplots()\n",
      "\n",
      "cnt = contour(Z, cmap=cm.RdBu, vmin=abs(Z).min(), vmax=abs(Z).max(), extent=[0, 1, 0, 1])"
     ],
     "language": "python",
     "metadata": {},
     "outputs": []
    },
    {
     "cell_type": "markdown",
     "metadata": {},
     "source": [
      "## 3D figures\n",
      "\n",
      "To use 3D graphics in matplotlib, we first need to create an axes instance of the class `Axes3D`. 3D axes can be added to a matplotlib figure canvas in exactly the same way as 2D axes, but a conventient way to create a 3D axis instance is to use the `projection='3d'` keyword argument to the `add_axes` or `add_subplot` functions."
     ]
    },
    {
     "cell_type": "code",
     "collapsed": false,
     "input": [
      "from mpl_toolkits.mplot3d.axes3d import Axes3D\n",
      "\n",
      "fig = plt.figure(figsize=(14,6))\n",
      "\n",
      "# `ax` is a 3D-aware axis instance, because of the projection='3d' keyword argument to add_subplot\n",
      "ax = fig.add_subplot(1, 2, 1, projection='3d')\n",
      "\n",
      "p = ax.plot_surface(X, Y, Z, rstride=4, cstride=4, linewidth=0)\n",
      "\n",
      "# surface_plot with color grading and color bar\n",
      "ax = fig.add_subplot(1, 2, 2, projection='3d')\n",
      "p = ax.plot_surface(X, Y, Z, rstride=1, cstride=1, cmap=cm.coolwarm, linewidth=0, antialiased=False)\n",
      "cb = fig.colorbar(p, shrink=0.5)"
     ],
     "language": "python",
     "metadata": {},
     "outputs": []
    },
    {
     "cell_type": "markdown",
     "metadata": {},
     "source": [
      "### Coutour plots with projections"
     ]
    },
    {
     "cell_type": "code",
     "collapsed": false,
     "input": [
      "fig = plt.figure(figsize=(8,6))\n",
      "\n",
      "ax = fig.add_subplot(1,1,1, projection='3d')\n",
      "\n",
      "ax.plot_surface(X, Y, Z, rstride=4, cstride=4, alpha=0.25)\n",
      "cset = ax.contour(X, Y, Z, zdir='z', offset=-pi, cmap=cm.coolwarm)\n",
      "cset = ax.contour(X, Y, Z, zdir='x', offset=-pi, cmap=cm.coolwarm)\n",
      "cset = ax.contour(X, Y, Z, zdir='y', offset=3*pi, cmap=cm.coolwarm)\n",
      "\n",
      "ax.set_xlim3d(-pi, 2*pi);\n",
      "ax.set_ylim3d(0, 3*pi);\n",
      "ax.set_zlim3d(-pi, 2*pi);"
     ],
     "language": "python",
     "metadata": {},
     "outputs": []
    },
    {
     "cell_type": "markdown",
     "metadata": {},
     "source": [
      "## Basemap"
     ]
    },
    {
     "cell_type": "code",
     "collapsed": false,
     "input": [],
     "language": "python",
     "metadata": {},
     "outputs": []
    },
    {
     "cell_type": "markdown",
     "metadata": {},
     "source": [
      "## Further reading\n",
      "\n",
      "* http://www.matplotlib.org - The project web page for matplotlib.\n",
      "* https://github.com/matplotlib/matplotlib - The source code for matplotlib.\n",
      "* http://matplotlib.org/gallery.html - A large gallery that showcase what kind of plots matplotlib can create. Highly recommended! \n",
      "* http://www.loria.fr/~rougier/teaching/matplotlib/ - A good matplotlib tutorial.\n"
     ]
    },
    {
     "cell_type": "markdown",
     "metadata": {},
     "source": [
      "ALSO UTILIZE STACKOVERFLOW.COM WHEN YOU HAVE ISSUES!\n"
     ]
    },
    {
     "cell_type": "code",
     "collapsed": false,
     "input": [],
     "language": "python",
     "metadata": {},
     "outputs": []
    }
   ],
   "metadata": {}
  }
 ]
}